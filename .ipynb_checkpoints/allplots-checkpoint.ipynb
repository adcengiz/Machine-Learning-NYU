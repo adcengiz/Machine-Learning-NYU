{
 "cells": [
  {
   "cell_type": "code",
   "execution_count": 18,
   "metadata": {},
   "outputs": [
    {
     "ename": "IndentationError",
     "evalue": "expected an indented block (<ipython-input-18-a30827223785>, line 40)",
     "output_type": "error",
     "traceback": [
      "\u001b[0;36m  File \u001b[0;32m\"<ipython-input-18-a30827223785>\"\u001b[0;36m, line \u001b[0;32m40\u001b[0m\n\u001b[0;31m    def plot3D(x,y,z):\u001b[0m\n\u001b[0m    ^\u001b[0m\n\u001b[0;31mIndentationError\u001b[0m\u001b[0;31m:\u001b[0m expected an indented block\n"
     ]
    }
   ],
   "source": [
    "import numpy as np\n",
    "import pandas as pd\n",
    "import matplotlib.pyplot as plt\n",
    "from matplotlib import cm\n",
    "from mpl_toolkits.mplot3d import Axes3D\n",
    "from collections import defaultdict\n",
    "%matplotlib inline\n",
    "\n",
    "color_names = list(cm.colors.cnames.keys())\n",
    "\n",
    "line_styles = defaultdict(dict)\n",
    "scatter_styles = defaultdict(dict)\n",
    "# d3_styles = defaultdict(dict)\n",
    "\n",
    "line_styles = {\"clear\":{ }, \n",
    "              \"bold\":{}, \n",
    "              \"filmy\":{}, \n",
    "              \"colorful\":{},\n",
    "              \"markerbold\":{},\n",
    "              \"random\": {},\n",
    "              \"rainbow\": {}}\n",
    "\n",
    "# scatter_styles = \n",
    "\n",
    "# histogram_styles = \n",
    "\n",
    "class GeneratePlot(plot_type=\"line\", style=\"clear\", dim=2):\n",
    "    self.plot_type = plot_type\n",
    "    self.style = style\n",
    "    self.dim = dim\n",
    "    \n",
    "    def fit(X, y, z=None):\n",
    "        if self.plot_type == \"line\" and self.style not in list(line_styles.keys()):\n",
    "        raise (\"You should choose one of the styles below for a line plot \\n \" + \\\n",
    "               str(\"\\n\") + str(list(line_styles.keys())))\n",
    "    \n",
    "    \n",
    "    \n",
    "    def plot2D(x,y):\n",
    "        if dim == 3:\n",
    "            raise (\"3D-data should be plotted with dim = 3\")\n",
    "        else:\n",
    "\n",
    "    def plot3D(x,y,z):\n",
    "        if dim == 2:\n",
    "            raise (\"2D-data should be plotted with dim = 2\")\n",
    "        else: \n",
    "            "
   ]
  },
  {
   "cell_type": "code",
   "execution_count": null,
   "metadata": {
    "collapsed": true
   },
   "outputs": [],
   "source": []
  }
 ],
 "metadata": {
  "kernelspec": {
   "display_name": "Python 3",
   "language": "python",
   "name": "python3"
  },
  "language_info": {
   "codemirror_mode": {
    "name": "ipython",
    "version": 3
   },
   "file_extension": ".py",
   "mimetype": "text/x-python",
   "name": "python",
   "nbconvert_exporter": "python",
   "pygments_lexer": "ipython3",
   "version": "3.6.1"
  }
 },
 "nbformat": 4,
 "nbformat_minor": 2
}
