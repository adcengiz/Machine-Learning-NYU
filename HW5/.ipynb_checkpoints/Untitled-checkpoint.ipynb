{
 "cells": [
  {
   "cell_type": "code",
   "execution_count": 1,
   "metadata": {
    "collapsed": true
   },
   "outputs": [],
   "source": [
    "from __future__ import division\n",
    "\n",
    "import matplotlib.pyplot as plt\n",
    "import numpy.matlib as matlib\n",
    "from scipy.stats import multivariate_normal\n",
    "import numpy as np"
   ]
  },
  {
   "cell_type": "code",
   "execution_count": 11,
   "metadata": {
    "collapsed": true
   },
   "outputs": [],
   "source": [
    "def generate_data(data_size, noise_params, actual_weights):\n",
    "    # x1: from [0,1) to [-1,1)\n",
    "    x1 = -1 + 2 * np.random.rand(data_size, 1)\n",
    "    # appending the bias term\n",
    "    xtrain = np.matrix(np.c_[np.ones((data_size, 1)), x1])\n",
    "    # random noise\n",
    "    noise = np.matrix(np.random.normal(\n",
    "                      noise_params[\"mean\"],\n",
    "                      noise_params[\"var\"],\n",
    "                      (data_size, 1)))\n",
    "\n",
    "    ytrain = (xtrain * actual_weights) + noise\n",
    "\n",
    "    return xtrain, ytrain"
   ]
  },
  {
   "cell_type": "code",
   "execution_count": 12,
   "metadata": {},
   "outputs": [
    {
     "ename": "NameError",
     "evalue": "name 'support_code' is not defined",
     "output_type": "error",
     "traceback": [
      "\u001b[0;31m---------------------------------------------------------------------------\u001b[0m",
      "\u001b[0;31mNameError\u001b[0m                                 Traceback (most recent call last)",
      "\u001b[0;32m<ipython-input-12-b3825262c94d>\u001b[0m in \u001b[0;36m<module>\u001b[0;34m()\u001b[0m\n\u001b[1;32m      4\u001b[0m \u001b[0mnoise\u001b[0m \u001b[0;34m=\u001b[0m \u001b[0;34m{\u001b[0m\u001b[0;34m\"mean\"\u001b[0m\u001b[0;34m:\u001b[0m\u001b[0;36m0\u001b[0m\u001b[0;34m,\u001b[0m \u001b[0;34m\"var\"\u001b[0m\u001b[0;34m:\u001b[0m\u001b[0;36m0.2\u001b[0m \u001b[0;34m**\u001b[0m \u001b[0;36m2\u001b[0m\u001b[0;34m}\u001b[0m\u001b[0;34m\u001b[0m\u001b[0m\n\u001b[1;32m      5\u001b[0m \u001b[0mlikelihood_var\u001b[0m \u001b[0;34m=\u001b[0m \u001b[0mnoise\u001b[0m\u001b[0;34m[\u001b[0m\u001b[0;34m\"var\"\u001b[0m\u001b[0;34m]\u001b[0m\u001b[0;34m\u001b[0m\u001b[0m\n\u001b[0;32m----> 6\u001b[0;31m \u001b[0mxtrain\u001b[0m\u001b[0;34m,\u001b[0m \u001b[0mytrain\u001b[0m \u001b[0;34m=\u001b[0m \u001b[0msupport_code\u001b[0m\u001b[0;34m.\u001b[0m\u001b[0mgenerate_data\u001b[0m\u001b[0;34m(\u001b[0m\u001b[0mdata_size\u001b[0m\u001b[0;34m,\u001b[0m \u001b[0mnoise\u001b[0m\u001b[0;34m,\u001b[0m \u001b[0mactual_weights\u001b[0m\u001b[0;34m)\u001b[0m\u001b[0;34m\u001b[0m\u001b[0m\n\u001b[0m",
      "\u001b[0;31mNameError\u001b[0m: name 'support_code' is not defined"
     ]
    }
   ],
   "source": [
    "np.random.seed(46134)\n",
    "actual_weights = np.matrix([[0.3], [0.5]])\n",
    "data_size = 40\n",
    "noise = {\"mean\":0, \"var\":0.2 ** 2}\n",
    "likelihood_var = noise[\"var\"]\n",
    "xtrain, ytrain = support_code.generate_data(data_size, noise, actual_weights)"
   ]
  },
  {
   "cell_type": "code",
   "execution_count": 3,
   "metadata": {
    "collapsed": true
   },
   "outputs": [],
   "source": [
    "def make_plots(actual_weights, xtrain, ytrain, likelihood_var, prior, likelihood_func, get_posterior_params, get_predictive_params):\n",
    "\n",
    "    # #setup for plotting\n",
    "    #\n",
    "    show_progress_till_data_rows = [1, 2, 10, -1]\n",
    "    num_rows = 1 + len(show_progress_till_data_rows)\n",
    "    num_cols = 4\n",
    "    plt.figure(figsize=(10,10))\n",
    "    plt.subplots_adjust(hspace=.8, wspace=.8)\n",
    "\n",
    "    plot_without_seeing_data(prior, num_rows, num_cols)\n",
    "\n",
    "    # see data for as many rounds as specified and plot\n",
    "    for round_num, row_num in enumerate(show_progress_till_data_rows):\n",
    "        current_row = round_num + 1\n",
    "        first_column_pos = (current_row * num_cols) + 1\n",
    "\n",
    "        # #plot likelihood on latest point\n",
    "        plt.subplot(num_rows, num_cols, first_column_pos)\n",
    "\n",
    "\n",
    "        likelihood_func_with_data = lambda W: likelihood_func(W,\n",
    "                                                      xtrain[:row_num,],\n",
    "                                                      ytrain[:row_num],\n",
    "                                                      likelihood_var)\n",
    "        contour_plot(likelihood_func_with_data, actual_weights)\n",
    "\n",
    "        # plot updated posterior on points seen till now\n",
    "        x_seen = xtrain[:row_num]\n",
    "        y_seen = ytrain[:row_num]\n",
    "        mu, cov = get_posterior_params(x_seen, y_seen,\n",
    "                                      prior, likelihood_var)\n",
    "        posterior_distr = multivariate_normal(mu.T.tolist()[0], cov)\n",
    "        posterior_func = lambda x: posterior_distr.pdf(x)\n",
    "        plt.subplot(num_rows, num_cols, first_column_pos + 1)\n",
    "        contour_plot(posterior_func, actual_weights)\n",
    "\n",
    "        # plot lines\n",
    "        data_seen = np.c_[x_seen[:, 1], y_seen]\n",
    "        plt.subplot(num_rows, num_cols, first_column_pos + 2)\n",
    "        plot_sample_lines(mu, cov, data_points=data_seen)\n",
    "\n",
    "        # plot predictive\n",
    "        plt.subplot(num_rows, num_cols, first_column_pos + 3)\n",
    "        post_mean, post_var = get_posterior_params(x_seen, y_seen, prior)\n",
    "        plot_predictive_distribution(get_predictive_params, post_mean, post_var)\n",
    "\n",
    "    # #show the final plot\n",
    "    plt.show()"
   ]
  },
  {
   "cell_type": "code",
   "execution_count": 4,
   "metadata": {
    "collapsed": true
   },
   "outputs": [],
   "source": [
    "def plot_without_seeing_data(prior, num_rows, num_cols):\n",
    "\n",
    "    #Blank likelihood\n",
    "    plt.subplot(num_rows, num_cols, 1, axisbg='grey')\n",
    "    plt.title(\"Likelihood\")\n",
    "    plt.xlabel(\"\")\n",
    "    plt.ylabel(\"\")\n",
    "    plt.xticks([])\n",
    "    plt.yticks([])\n",
    "    plt.xlim([-0.9, 0.9])\n",
    "    plt.ylim([-0.9, 0.9])\n",
    "\n",
    "    #Prior\n",
    "    prior_distribution = multivariate_normal(mean=prior[\"mean\"].T.tolist()[0],\n",
    "        cov=prior[\"var\"])\n",
    "    prior_func = lambda x:prior_distribution.pdf(x)\n",
    "    plt.subplot(num_rows, num_cols, 2)\n",
    "    plt.title(\"Prior/Posterior\")\n",
    "    contour_plot(prior_func)\n",
    "\n",
    "    # Plot initially valid lines (no data seen)\n",
    "    plt.subplot(num_rows, num_cols, 3)\n",
    "    plt.title(\"Data Space\")\n",
    "    plot_sample_lines(prior[\"mean\"], prior[\"var\"])\n",
    "\n",
    "    # Blank predictive\n",
    "    plt.subplot(num_rows, num_cols, 4, axisbg='grey')\n",
    "    plt.title('Predictive Distribution')\n",
    "    plt.xticks([])\n",
    "    plt.yticks([])\n",
    "    plt.xlim([-1, 1])\n",
    "    plt.ylim([-1, 1])\n",
    "    plt.xlabel(\"\")\n",
    "    plt.ylabel(\"\")"
   ]
  },
  {
   "cell_type": "code",
   "execution_count": 5,
   "metadata": {
    "collapsed": true
   },
   "outputs": [],
   "source": [
    "def contour_plot(distribution_func, actual_weights=[]):\n",
    "\n",
    "    step_size = 0.05\n",
    "    array = np.arange(-1, 1, step_size)\n",
    "    x, y_train = np.meshgrid(array, array)\n",
    "\n",
    "    length = x.shape[0] * x.shape[1]\n",
    "    x_flat = x.reshape((length, 1))\n",
    "    y_flat = y_train.reshape((length, 1))\n",
    "    contour_points = np.c_[x_flat, y_flat]\n",
    "\n",
    "    values = map(distribution_func, contour_points)\n",
    "    values = np.array(values).reshape(x.shape)\n",
    "\n",
    "    plt.contourf(x, y_train, values)\n",
    "    plt.xlabel(\"w1\")\n",
    "    plt.ylabel(\"w2\")\n",
    "    plt.xticks([-0.5, 0, 0.5])\n",
    "    plt.yticks([-0.5, 0, 0.5])\n",
    "    plt.xlim([-0.9, 0.9])\n",
    "    plt.ylim([-0.9, 0.9])\n",
    "\n",
    "    if(len(actual_weights) == 2):\n",
    "        plt.plot(float(actual_weights[0]), float(actual_weights[1]),\n",
    "                 \"*k\", ms=5)"
   ]
  },
  {
   "cell_type": "code",
   "execution_count": 6,
   "metadata": {
    "collapsed": true
   },
   "outputs": [],
   "source": [
    "def plot_sample_lines(mean, variance,\n",
    "                    number_of_lines=6,\n",
    "                    data_points=np.empty((0, 0))):\n",
    "    step_size = 0.05\n",
    "    # generate and plot lines\n",
    "    for round in range(1, number_of_lines):\n",
    "        weights = np.matrix(np.random.multivariate_normal(mean.T.tolist()[0], variance)).T\n",
    "        x1 = np.arange(-1, 1, step_size)\n",
    "        x = np.matrix(np.c_[np.ones((len(x1), 1)), x1])\n",
    "        y_train = x * weights\n",
    "\n",
    "        plt.plot(x1, y_train)\n",
    "\n",
    "    # markings\n",
    "    plt.xticks([-1, 0, 1])\n",
    "    plt.yticks([-1, 0, 1])\n",
    "    plt.xlim([-1, 1])\n",
    "    plt.ylim([-1, 1])\n",
    "    plt.xlabel(\"x\")\n",
    "    plt.ylabel(\"y\")\n",
    "\n",
    "    # plot data points if given\n",
    "    if(data_points.size):\n",
    "        plt.plot(data_points[:, 0], data_points[:, 1],\n",
    "                 \"co\")"
   ]
  },
  {
   "cell_type": "code",
   "execution_count": 7,
   "metadata": {
    "collapsed": true
   },
   "outputs": [],
   "source": [
    "def plot_predictive_distribution(get_predictive_params,post_mean, post_var):\n",
    "    step_size = 0.05\n",
    "    x = np.arange(-1, 1, step_size)\n",
    "    x = np.matrix(np.c_[np.ones((len(x), 1)), x])\n",
    "    pred_means = np.zeros(x.shape[0])\n",
    "    pred_stds = np.zeros(x.shape[0])\n",
    "    for i in range(x.shape[0]):\n",
    "        pred_means[i], pred_stds[i] = get_predictive_params(x[i,].T,\n",
    "                                                        post_mean,\n",
    "                                                        post_var)\n",
    "    pred_stds = np.sqrt(pred_stds)\n",
    "    plt.plot(x[:,1], pred_means, 'b')\n",
    "    plt.plot(x[:,1], pred_means + pred_stds, 'b--')\n",
    "    plt.plot(x[:,1], pred_means - pred_stds, 'b--')\n",
    "    plt.xticks([-1, 0, 1])\n",
    "    plt.yticks([-0.5, 0, 0.5])\n",
    "    plt.xlim([-1, 1])\n",
    "    plt.ylim([-1, 1])\n",
    "    plt.xlabel(\"x\")\n",
    "    plt.ylabel(\"y\")"
   ]
  },
  {
   "cell_type": "code",
   "execution_count": null,
   "metadata": {
    "collapsed": true
   },
   "outputs": [],
   "source": []
  }
 ],
 "metadata": {
  "kernelspec": {
   "display_name": "Python 3",
   "language": "python",
   "name": "python3"
  },
  "language_info": {
   "codemirror_mode": {
    "name": "ipython",
    "version": 3
   },
   "file_extension": ".py",
   "mimetype": "text/x-python",
   "name": "python",
   "nbconvert_exporter": "python",
   "pygments_lexer": "ipython3",
   "version": "3.6.1"
  }
 },
 "nbformat": 4,
 "nbformat_minor": 2
}
