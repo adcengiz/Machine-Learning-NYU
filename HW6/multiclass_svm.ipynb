{
 "cells": [
  {
   "cell_type": "code",
   "execution_count": 1,
   "metadata": {
    "collapsed": true
   },
   "outputs": [],
   "source": [
    "import numpy as np\n",
    "import matplotlib.pyplot as plt\n",
    "from sklearn.datasets.samples_generator import make_blobs\n",
    "\n",
    "%matplotlib inline"
   ]
  },
  {
   "cell_type": "code",
   "execution_count": 2,
   "metadata": {},
   "outputs": [
    {
     "data": {
      "text/plain": [
       "<matplotlib.collections.PathCollection at 0x1a16536240>"
      ]
     },
     "execution_count": 2,
     "metadata": {},
     "output_type": "execute_result"
    },
    {
     "data": {
      "image/png": "[encoded data removed]",
      "text/plain": [
       "<matplotlib.figure.Figure at 0x1a1653fb00>"
      ]
     },
     "metadata": {},
     "output_type": "display_data"
    }
   ],
   "source": [
    "# Create the  training data\n",
    "np.random.seed(2)\n",
    "X, y = make_blobs(n_samples=300,cluster_std=.25, centers=np.array([(-3,1),(0,2),(3,1)]))\n",
    "plt.scatter(X[:, 0], X[:, 1], c=y, s=50)"
   ]
  },
  {
   "cell_type": "code",
   "execution_count": 3,
   "metadata": {
    "collapsed": true
   },
   "outputs": [],
   "source": [
    "num_samples, num_inFeatures = (1,X.shape[0]) if len(X.shape) == 1 else (X.shape[0],X.shape[1])\n",
    "num_classes = 3"
   ]
  },
  {
   "cell_type": "code",
   "execution_count": 4,
   "metadata": {},
   "outputs": [
    {
     "name": "stdout",
     "output_type": "stream",
     "text": [
      "[-2.90738887  1.33990847  0.          0.          0.          0.        ]\n",
      "[ 0.          0.         -2.90738887  1.33990847  0.          0.        ]\n",
      "[ 0.          0.          0.          0.         -2.90738887  1.33990847]\n"
     ]
    }
   ],
   "source": [
    "for j in range(num_classes):\n",
    "    empty_v = np.zeros(num_classes * num_inFeatures)\n",
    "    empty_v[(j*num_inFeatures):(j+1)*num_inFeatures] = X[0]\n",
    "    print(empty_v)"
   ]
  },
  {
   "cell_type": "code",
   "execution_count": 5,
   "metadata": {},
   "outputs": [
    {
     "data": {
      "text/plain": [
       "array([[-2.90738887,  1.33990847, -2.90738887,  1.33990847, -2.90738887,\n",
       "         1.33990847],\n",
       "       [ 2.83555791,  0.6871379 ,  2.83555791,  0.6871379 ,  2.83555791,\n",
       "         0.6871379 ],\n",
       "       [ 2.85131938,  0.92129704,  2.85131938,  0.92129704,  2.85131938,\n",
       "         0.92129704],\n",
       "       ..., \n",
       "       [-2.74990853,  0.90472687, -2.74990853,  0.90472687, -2.74990853,\n",
       "         0.90472687],\n",
       "       [-0.28917479,  2.30850867, -0.28917479,  2.30850867, -0.28917479,\n",
       "         2.30850867],\n",
       "       [-3.11355696,  1.12859268, -3.11355696,  1.12859268, -3.11355696,\n",
       "         1.12859268]])"
      ]
     },
     "execution_count": 5,
     "metadata": {},
     "output_type": "execute_result"
    }
   ],
   "source": [
    "def featureMap(X,y,num_classes) :\n",
    "    #class sensitive feature mapping\n",
    "    '''\n",
    "    Computes the class-sensitive features.\n",
    "    @param X: array-like, shape = [n_samples,n_inFeatures] \n",
    "                or [n_inFeatures,], input features for input data\n",
    "    @param y: a target class (in range 0,..,num_classes-1)\n",
    "    @return array-like, shape = [n_samples,n_outFeatures], \n",
    "                        the class sensitive features for class y\n",
    "    '''\n",
    "    #The following line handles X being a 1d-array or a 2d-array\n",
    "    num_samples, num_inFeatures = (1,X.shape[0]) if len(X.shape) == 1 else (X.shape[0],X.shape[1])\n",
    "    X_new = np.tile(A = X,reps=num_classes)      \n",
    "    return X_new\n",
    "\n",
    "X_new = featureMap(X,y,num_classes = 3)\n",
    "X_new"
   ]
  },
  {
   "cell_type": "code",
   "execution_count": 6,
   "metadata": {
    "collapsed": true
   },
   "outputs": [],
   "source": [
    "def sgd(X, y, num_outFeatures, subgd, eta = 0.05, T = 10000):\n",
    "    w_vec = np.zeros(num_outFeatures)\n",
    "    w_updates = [w_vec]\n",
    "    num_samples = X.shape[0]\n",
    "    m_svm = MulticlassSVM(6)\n",
    "    for num_iter in range(T):\n",
    "        for i in range(num_samples):\n",
    "            grad = m_svm.subgradient(X[i],y[i],w_vec)\n",
    "            w_vec = w_vec - eta*grad\n",
    "        w = w_vec\n",
    "        w_updates.append(w)\n",
    "    w_fin = np.zeros((num_outFeatures))\n",
    "    w_updates = np.vstack((w_updates))\n",
    "    for a in range(len(w_fin)):\n",
    "        w_fin[a] = np.mean(w_updates[:,a])\n",
    "    return np.array(w_fin)"
   ]
  },
  {
   "cell_type": "code",
   "execution_count": 7,
   "metadata": {
    "collapsed": true
   },
   "outputs": [],
   "source": [
    "from sklearn.base import BaseEstimator, ClassifierMixin, clone\n",
    "\n",
    "def zeroOne(y,a) :\n",
    "    '''\n",
    "    Computes the zero-one loss.\n",
    "    @param y: output class\n",
    "    @param a: predicted class\n",
    "    @return 1 if different, 0 if same\n",
    "    '''\n",
    "    return int(y != a)\n",
    "\n",
    "def featureMap(X,y,num_classes) :\n",
    "    #class sensitive feature mapping\n",
    "    '''\n",
    "    Computes the class-sensitive features.\n",
    "    @param X: array-like, shape = [n_samples,n_inFeatures] \n",
    "                or [n_inFeatures,], input features for input data\n",
    "    @param y: a target class (in range 0,..,num_classes-1)\n",
    "    @return array-like, shape = [n_samples,n_outFeatures], \n",
    "                        the class sensitive features for class y\n",
    "    '''\n",
    "    if len(X.shape) == 1:\n",
    "        X = X.reshape(1,-1)\n",
    "        num_samples, num_inFeatures = X.shape[0],X.shape[1]\n",
    "    else:\n",
    "        num_samples, num_inFeatures = (1,X.shape[0]) if len(X.shape) \\\n",
    "        == 1 else (X.shape[0],X.shape[1])\n",
    "    k = num_classes\n",
    "    for i in range(k):\n",
    "        if y == i:\n",
    "            mapped = np.column_stack((np.zeros((num_samples,i*2)),\\\n",
    "                                      X, np.zeros((num_samples,(k-i-1)*2))))\n",
    "    return mapped\n",
    "\n",
    "class MulticlassSVM(BaseEstimator, ClassifierMixin):\n",
    "    '''\n",
    "    Implements a Multiclass SVM estimator.\n",
    "    '''\n",
    "    def __init__(self, num_outFeatures, lam=1.0, \n",
    "                 num_classes=3, Delta=zeroOne, Psi=featureMap, eta=0.05):       \n",
    "        '''\n",
    "        Creates a MulticlassSVM estimator.\n",
    "        @param num_outFeatures: number of class-sensitive features produced by Psi\n",
    "        @param lam: l2 regularization parameter\n",
    "        @param num_classes: number of classes (assumed numbered 0,..,num_classes-1)\n",
    "        @param Delta: class-sensitive loss function taking two arguments (i.e., target margin)\n",
    "        @param Psi: class-sensitive feature map taking two arguments\n",
    "        '''\n",
    "        self.num_outFeatures = num_outFeatures \n",
    "        self.lam = lam\n",
    "        self.num_classes = num_classes\n",
    "        self.Delta = Delta\n",
    "        self.eta = eta ## eta added\n",
    "        self.Psi = lambda X,y : Psi(X,y,num_classes) \n",
    "        self.fitted = False\n",
    "    \n",
    "    def subgradient(self,x,y,w):\n",
    "        lam = self.lam\n",
    "        num_samples, num_inFeatures = (1,X.shape[0]) if \\\n",
    "        len(X.shape) == 1 else (X.shape[0],X.shape[1])\n",
    "        psi = self.Psi(x,y)\n",
    "        psi_pred = np.dot(psi,w.T)\n",
    "        if zeroOne(y, psi_pred) == 0:\n",
    "            subgradient = 2*w*lam\n",
    "        else:\n",
    "            subgradient = 2*w*lam + (psi_pred - psi)\n",
    "        return subgradient\n",
    "        \n",
    "    def fit(self,X,y,eta=0.05,T=10000):\n",
    "        '''\n",
    "        Fits multiclass SVM\n",
    "        @param X: array-like, shape = [num_samples,num_inFeatures], input data\n",
    "        @param y: array-like, shape = [num_samples,], input classes\n",
    "        @param eta: learning rate for SGD\n",
    "        @param T: maximum number of iterations\n",
    "        @return returns self\n",
    "        '''\n",
    "        eta = self.eta\n",
    "        if len(X.shape) == 1:\n",
    "            X = X.reshape(1,-1)\n",
    "        self.coef_ = sgd(X,y,self.num_outFeatures,\\\n",
    "                         self.subgradient,eta,T)\n",
    "        self.fitted = True\n",
    "        return self\n",
    "    \n",
    "    def decision_function(self, X):\n",
    "        '''\n",
    "        Returns the score on each input for each class. Assumes\n",
    "        that fit has been called.\n",
    "        @param X : array-like, shape = [n_samples, n_inFeatures]\n",
    "        @return array-like, shape = [n_samples, n_classes] giving scores for each sample,class pairing\n",
    "        '''\n",
    "        if not self.fitted:\n",
    "            raise RuntimeError(\"You must train classifer \\\n",
    "            before predicting data.\")\n",
    "        w = self.coef_\n",
    "        num_classes = self.num_classes\n",
    "        num_samples, num_inFeatures = (1,X.shape[0]) if \\\n",
    "        len(X.shape) == 1 else (X.shape[0],X.shape[1])\n",
    "        decs = np.zeros((num_samples, num_classes))\n",
    "        for i in range(300):\n",
    "            psi1 = self.Psi(X[i],np.unique(y)[0])\n",
    "            psi2 = self.Psi(X[i],np.unique(y)[1])\n",
    "            psi3 = self.Psi(X[i],np.unique(y)[2])\n",
    "            decs[i][0] = np.dot(psi1,w.T)\n",
    "            decs[i][1] = np.dot(psi2,w.T)\n",
    "            decs[i][2] = np.dot(psi3,w.T)\n",
    "        return decs\n",
    "            \n",
    "    def predict(self, X):\n",
    "        '''\n",
    "        Predict the class with the highest score.\n",
    "        @param X: array-like, shape = [n_samples, n_inFeatures], input data to predict\n",
    "        @return array-like, shape = [n_samples,], class labels predicted for each data point\n",
    "        '''\n",
    "\n",
    "        #Your code goes here and replaces following return statement\n",
    "        if len(X.shape) == 1:\n",
    "            X = X.reshape(1,-1)\n",
    "        d = self.decision_function(X)\n",
    "        num_samples, num_inFeatures = (1,X.shape[0]) if \\\n",
    "            len(X.shape) == 1 else (X.shape[0],X.shape[1])\n",
    "        num_classes = self.num_classes\n",
    "        preds = np.zeros(num_samples)\n",
    "        for i in range(num_samples):\n",
    "            if type(np.amax(d[i])) == int:\n",
    "                for k in range(num_classes):\n",
    "                    if np.amax(d[i]) == d[i][k]:\n",
    "                        preds[i] = k\n",
    "            else:\n",
    "                ks=[]\n",
    "                for k in range(num_classes):\n",
    "                    if np.amax(d[i]) == d[i][k]:\n",
    "                        ks.append(k)\n",
    "                preds[i] = np.random.choice(ks)\n",
    "        return preds\n",
    "    \n",
    "def sgd(X, y, num_outFeatures, subgd, eta = 0.5, T = 10000):\n",
    "    '''\n",
    "    Runs subgradient descent, and outputs resulting parameter vector.\n",
    "    @param X: array-like, shape = [n_samples,n_features], input training data \n",
    "    @param y: array-like, shape = [n_samples,], class labels\n",
    "    @param num_outFeatures: number of class-sensitive features\n",
    "    @param subgd: function taking x,y and giving subgradient of objective\n",
    "    @param eta: learning rate for SGD\n",
    "    @param T: maximum number of iterations\n",
    "    @return: vector of weights\n",
    "    '''\n",
    "    w_vec = np.zeros(num_outFeatures)\n",
    "    w_updates = [w_vec]\n",
    "    num_samples = X.shape[0]\n",
    "    m_svm = MulticlassSVM(6)\n",
    "    for num_iter in range(T):\n",
    "        for i in range(num_samples):\n",
    "            grad = m_svm.subgradient(X[i],y[i],w_vec)\n",
    "            w_vec = w_vec - eta*grad\n",
    "        w = w_vec\n",
    "        w_updates.append(w)\n",
    "    w_fin = np.zeros((num_outFeatures))\n",
    "    w_updates = np.vstack((w_updates))\n",
    "    for a in range(len(w_fin)):\n",
    "        w_fin[a] = np.mean(w_updates[:,a])\n",
    "    return np.array(w_fin)\n"
   ]
  },
  {
   "cell_type": "code",
   "execution_count": 8,
   "metadata": {},
   "outputs": [
    {
     "name": "stdout",
     "output_type": "stream",
     "text": [
      "w:\n",
      "[-1.05902026 -0.25403603 -0.47286649 -0.15438022  0.0182584  -0.31654881]\n"
     ]
    },
    {
     "ename": "NameError",
     "evalue": "name 'mesh_input' is not defined",
     "output_type": "error",
     "traceback": [
      "\u001b[0;31m---------------------------------------------------------------------------\u001b[0m",
      "\u001b[0;31mNameError\u001b[0m                                 Traceback (most recent call last)",
      "\u001b[0;32m<ipython-input-8-ad8fa743c174>\u001b[0m in \u001b[0;36m<module>\u001b[0;34m()\u001b[0m\n\u001b[1;32m      3\u001b[0m \u001b[0mprint\u001b[0m\u001b[0;34m(\u001b[0m\u001b[0;34m\"w:\"\u001b[0m\u001b[0;34m)\u001b[0m\u001b[0;34m\u001b[0m\u001b[0m\n\u001b[1;32m      4\u001b[0m \u001b[0mprint\u001b[0m\u001b[0;34m(\u001b[0m\u001b[0mest\u001b[0m\u001b[0;34m.\u001b[0m\u001b[0mcoef_\u001b[0m\u001b[0;34m)\u001b[0m\u001b[0;34m\u001b[0m\u001b[0m\n\u001b[0;32m----> 5\u001b[0;31m \u001b[0mZ\u001b[0m \u001b[0;34m=\u001b[0m \u001b[0mest\u001b[0m\u001b[0;34m.\u001b[0m\u001b[0mpredict\u001b[0m\u001b[0;34m(\u001b[0m\u001b[0mmesh_input\u001b[0m\u001b[0;34m)\u001b[0m\u001b[0;34m\u001b[0m\u001b[0m\n\u001b[0m\u001b[1;32m      6\u001b[0m \u001b[0mZ\u001b[0m \u001b[0;34m=\u001b[0m \u001b[0mZ\u001b[0m\u001b[0;34m.\u001b[0m\u001b[0mreshape\u001b[0m\u001b[0;34m(\u001b[0m\u001b[0mxx\u001b[0m\u001b[0;34m.\u001b[0m\u001b[0mshape\u001b[0m\u001b[0;34m)\u001b[0m\u001b[0;34m\u001b[0m\u001b[0m\n\u001b[1;32m      7\u001b[0m \u001b[0;31m# plt.figure(figsize=(15,10))\u001b[0m\u001b[0;34m\u001b[0m\u001b[0;34m\u001b[0m\u001b[0m\n",
      "\u001b[0;31mNameError\u001b[0m: name 'mesh_input' is not defined"
     ]
    }
   ],
   "source": [
    "est = MulticlassSVM(6,lam=0.95,eta=0.05)\n",
    "est.fit(X,y)\n",
    "print(\"w:\")\n",
    "print(est.coef_)\n",
    "Z = est.predict(mesh_input)\n",
    "Z = Z.reshape(xx.shape)\n",
    "# plt.figure(figsize=(15,10))\n",
    "# plt.contourf(xx, yy, Z, cmap=plt.cm.coolwarm, alpha=0.8)\n",
    "# plt.scatter(X[:, 0], X[:, 1], c=y, cmap=plt.cm.coolwarm,\\\n",
    "#            edgecolor=\"k\", linewidth=2, s=75)\n",
    "# plt.rcParams[\"font.size\"] = 16\n",
    "# plt.title(\"Multiclass SVM\")\n",
    "from sklearn import metrics\n",
    "metrics.confusion_matrix(y, est.predict(X))"
   ]
  },
  {
   "cell_type": "code",
   "execution_count": null,
   "metadata": {
    "collapsed": true
   },
   "outputs": [],
   "source": []
  }
 ],
 "metadata": {
  "kernelspec": {
   "display_name": "Python 3",
   "language": "python",
   "name": "python3"
  },
  "language_info": {
   "codemirror_mode": {
    "name": "ipython",
    "version": 3
   },
   "file_extension": ".py",
   "mimetype": "text/x-python",
   "name": "python",
   "nbconvert_exporter": "python",
   "pygments_lexer": "ipython3",
   "version": "3.6.1"
  }
 },
 "nbformat": 4,
 "nbformat_minor": 2
}
